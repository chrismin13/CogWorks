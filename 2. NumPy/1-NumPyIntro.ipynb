{
 "cells": [
  {
   "cell_type": "markdown",
   "id": "c6356fdf-bbea-4dc0-ad7b-f4ab0b8fea05",
   "metadata": {},
   "source": [
    "## Jupyter Notebook: Introducing the ND-array with NumPy\r\n",
    "\r\n",
    "### Introduction\r\n",
    "\r\n",
    "In today's lesson, we'll be diving into the world of NumPy, the go-to Python library for numerical work. Ever heard of matrices in math class? We'll be working with something similar called the ND-array (N-dimensional array)."
   ]
  },
  {
   "cell_type": "markdown",
   "id": "79a620cb-3a5f-4696-8d6b-f8a23615113b",
   "metadata": {},
   "source": [
    "### 1. Importing NumPy\r\n",
    "\r\n",
    "Before we can start using NumPy, we need to bring it into our notebook:"
   ]
  },
  {
   "cell_type": "code",
   "execution_count": null,
   "id": "2fbf57c1-7578-4654-986e-b8146fd62a15",
   "metadata": {},
   "outputs": [],
   "source": [
    "import numpy as np"
   ]
  },
  {
   "cell_type": "markdown",
   "id": "db785ff9-a59d-45e9-80ab-c063e13741d0",
   "metadata": {},
   "source": [
    "*Note:* `np` is a common abbreviation for `numpy`. This way, we don't have to type out `numpy` every time we use it!"
   ]
  },
  {
   "cell_type": "markdown",
   "id": "4855dabb-5d41-4bbb-92b0-ab8a3600d628",
   "metadata": {},
   "source": [
    "### Exercise 1:\r\n",
    "\r\n",
    "In the cell below, type out the command to import numpy as np:"
   ]
  },
  {
   "cell_type": "code",
   "execution_count": null,
   "id": "3b3ef7c1-1b1d-445f-b856-783b7dfdf9bc",
   "metadata": {},
   "outputs": [],
   "source": [
    "# Your code here"
   ]
  },
  {
   "cell_type": "markdown",
   "id": "9478fb71-9b9f-4014-aee0-71ee16d7f2d6",
   "metadata": {},
   "source": [
    "### 2. What is an ND-array?\r\n",
    "\r\n",
    "An ND-array is a collection of numbers, like a Python list. What makes it special is:\r\n",
    "\r\n",
    "1. You can access its data along multiple dimensions (not just a straight line!).\r\n",
    "2. It can perform mathematical operations really fast on its elements. This is called vectorization.\r\n",
    "\r\n",
    "Let's create our first ND-array:"
   ]
  },
  {
   "cell_type": "code",
   "execution_count": null,
   "id": "ff0f3109-59f4-424c-a59a-475286485806",
   "metadata": {},
   "outputs": [],
   "source": [
    "x = np.array([0, 1, 2, 3, 4, 5, 6, 7, 8])\n",
    "x"
   ]
  },
  {
   "cell_type": "markdown",
   "id": "8a372360-e3b9-4158-b231-18f01015d194",
   "metadata": {},
   "source": [
    "\n",
    "You should see an array of numbers from 0 to 8!\n"
   ]
  },
  {
   "cell_type": "markdown",
   "id": "55811296-2be6-459e-ac65-267b80281548",
   "metadata": {},
   "source": [
    "\n",
    "### Exercise 2:\n",
    "\n",
    "Create an ND-array with the numbers 10 to 20 and display it:\n"
   ]
  },
  {
   "cell_type": "code",
   "execution_count": null,
   "id": "4fc73213-bcda-40e3-bcd5-8044ca380d68",
   "metadata": {},
   "outputs": [],
   "source": [
    "# Your code here"
   ]
  },
  {
   "cell_type": "markdown",
   "id": "74e03ede-7a68-4236-b7dd-e51e56de1816",
   "metadata": {},
   "source": [
    "### 3. Reshaping Our Array\n",
    "\n",
    "Currently, our array looks like a straight line. But what if we wanted it in a square format?"
   ]
  },
  {
   "cell_type": "code",
   "execution_count": null,
   "id": "ab16cb79-696c-4fb4-9ea3-3e64de81a83d",
   "metadata": {},
   "outputs": [],
   "source": [
    "x = x.reshape(3,3)\n",
    "x"
   ]
  },
  {
   "cell_type": "markdown",
   "id": "0e86306c-d534-4e01-ab2e-50367c26f217",
   "metadata": {},
   "source": [
    "\n",
    "The above code changes the shape of our array to 3 rows and 3 columns.\n"
   ]
  },
  {
   "cell_type": "markdown",
   "id": "712bdd75-b33d-4994-b925-ee4d063c4909",
   "metadata": {},
   "source": [
    "### Exercise 3:\n",
    "\n",
    "Can you reshape the array you created in Exercise 2 into a shape of 4 rows and 3 columns?"
   ]
  },
  {
   "cell_type": "code",
   "execution_count": null,
   "id": "4f835ad3-e6ef-4e1f-ac99-7807d76fbb3e",
   "metadata": {},
   "outputs": [],
   "source": [
    "# Your code here"
   ]
  },
  {
   "cell_type": "markdown",
   "id": "82d4073b-d948-4771-8252-58990bc6d97b",
   "metadata": {},
   "source": [
    "\n",
    "### 4. Doing Math with NumPy\n",
    "\n",
    "One of the powers of NumPy is to perform mathematical operations quickly:\n"
   ]
  },
  {
   "cell_type": "code",
   "execution_count": null,
   "id": "8a020761-3ce4-47af-858b-ac35463ec2fe",
   "metadata": {},
   "outputs": [],
   "source": [
    "# Squaring each entry\n",
    "squared = np.power(x, 2)\n",
    "squared"
   ]
  },
  {
   "cell_type": "markdown",
   "id": "2f9b7221-d1bb-400f-9730-6c4721e2407b",
   "metadata": {},
   "source": [
    "\n",
    "We can also find the average of each row:\n"
   ]
  },
  {
   "cell_type": "code",
   "execution_count": null,
   "id": "c15abc5e-c20e-4957-a9c4-5ee4771eb6ff",
   "metadata": {},
   "outputs": [],
   "source": [
    "mean_values = np.mean(x, axis=1)\n",
    "mean_values"
   ]
  },
  {
   "cell_type": "markdown",
   "id": "3920fea0-a3c1-4d63-b077-5fd0434b75b2",
   "metadata": {},
   "source": [
    "\n",
    "There's even more cool stuff like broadcasting and slicing! But we'll dive into those later.\n"
   ]
  },
  {
   "cell_type": "markdown",
   "id": "f5be14fc-fbc5-424e-97b7-d029af65c7a1",
   "metadata": {},
   "source": [
    "\n",
    "### Exercise 4:\n",
    "\n",
    "1. Multiply your array by 2.\n",
    "2. Find the mean value of each column.\n",
    "\n"
   ]
  },
  {
   "cell_type": "code",
   "execution_count": null,
   "id": "273a7940-0c09-4e01-b4aa-203da85fba58",
   "metadata": {},
   "outputs": [],
   "source": [
    "# Your code here"
   ]
  },
  {
   "cell_type": "markdown",
   "id": "4bf19d08-e8dc-450e-9643-f5e699a32f32",
   "metadata": {},
   "source": [
    "\n",
    "### 5. Advanced Manipulations\n",
    "\n",
    "NumPy allows for advanced manipulations:"
   ]
  },
  {
   "cell_type": "code",
   "execution_count": null,
   "id": "e4091073-1af9-4503-9e87-644708ca5024",
   "metadata": {},
   "outputs": [],
   "source": [
    "# Multiply even-valued entries by -1\n",
    "x[x % 2 == 0] *= -1\n",
    "x"
   ]
  },
  {
   "cell_type": "markdown",
   "id": "70d1969e-f625-4e43-ab2f-e636daf52fe0",
   "metadata": {},
   "source": [
    "We'll explore more advanced manipulations in future lessons!"
   ]
  },
  {
   "cell_type": "markdown",
   "id": "0452c40e-852a-46e4-9bce-d65c7eb71d46",
   "metadata": {},
   "source": [
    "\r\n",
    "### Conclusion\r\n",
    "\r\n",
    "Congratulations on your first dive into NumPy! There's so much more to explore, but you've taken the first crucial step.\r\n"
   ]
  }
 ],
 "metadata": {
  "kernelspec": {
   "display_name": "Python 3 (ipykernel)",
   "language": "python",
   "name": "python3"
  },
  "language_info": {
   "codemirror_mode": {
    "name": "ipython",
    "version": 3
   },
   "file_extension": ".py",
   "mimetype": "text/x-python",
   "name": "python",
   "nbconvert_exporter": "python",
   "pygments_lexer": "ipython3",
   "version": "3.11.6"
  }
 },
 "nbformat": 4,
 "nbformat_minor": 5
}
