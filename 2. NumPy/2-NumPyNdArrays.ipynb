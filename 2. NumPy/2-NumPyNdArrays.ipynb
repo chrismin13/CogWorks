{
 "cells": [
  {
   "cell_type": "markdown",
   "id": "e5795ab2-1655-4c74-b448-5bc98d7f5758",
   "metadata": {},
   "source": [
    "# Accessing Data Along Multiple Dimensions in an Array\r\n",
    "\r\n",
    "In this section, we will:\r\n",
    "\r\n",
    "- Define the “dimensionality” of an array.\r\n",
    "- Discuss the usefulness of ND-arrays.\r\n",
    "- Introduce the indexing and slicing scheme for accessing a multi-dimensional array’s co\n",
    "- Explain N-Dimensional Arraysntents\r\n"
   ]
  },
  {
   "cell_type": "markdown",
   "id": "3cacb815-8c21-4075-ba6f-72ce0d55844d",
   "metadata": {},
   "source": [
    "## Dimensionality of an Array\n",
    "\n",
    "We will encounter arrays of varying dimensionalities:"
   ]
  },
  {
   "cell_type": "code",
   "execution_count": null,
   "id": "42600645-1fd6-46fc-b0d9-484ec5dc09b8",
   "metadata": {},
   "outputs": [],
   "source": [
    "import numpy as np\n",
    "\n",
    "# A 0-D array\n",
    "zero_dim_array = np.array(8)\n",
    "print(zero_dim_array)\n",
    "\n",
    "# A 1-D array, shape-(3,)\n",
    "one_dim_array = np.array([2.3, 0.1, -9.1])\n",
    "print(one_dim_array)\n",
    "\n",
    "# A 2-D array, shape-(3, 2)\n",
    "two_dim_array = np.array([[93,  95],\n",
    "                          [84, 100],\n",
    "                          [99,  87]])\n",
    "print(two_dim_array)\n",
    "\n",
    "# A 3-D array, shape-(2, 2, 2)\n",
    "three_dim_array = np.array([[[0, 1],\n",
    "                             [2, 3]],\n",
    "\n",
    "                            [[4, 5],\n",
    "                             [6, 7]]])\n",
    "print(three_dim_array)\n"
   ]
  },
  {
   "cell_type": "markdown",
   "id": "bc17d654-5c16-4a9b-80a6-39ec7d9ede87",
   "metadata": {},
   "source": [
    "### Accessing Multi-Dimensional Arrays\n",
    "\n",
    "Similar to Python’s sequences, we use 0-based indices and slicing to access the content of an array. However, we must specify an index/slice for each dimension of an array."
   ]
  },
  {
   "cell_type": "code",
   "execution_count": null,
   "id": "0431c63b-e8f9-4db3-8f73-9383dbd30bb1",
   "metadata": {},
   "outputs": [],
   "source": [
    "x = np.array([[[0, 1],\n",
    "               [2, 3]],\n",
    "\n",
    "              [[4, 5],\n",
    "               [6, 7]]])\n",
    "\n",
    "# get: sheet-0, both rows, flip order of columns\n",
    "flipped_array = x[0, :, ::-1]\n",
    "print(flipped_array)"
   ]
  },
  {
   "cell_type": "markdown",
   "id": "41106449-a15a-4e22-b60a-7d621db7a047",
   "metadata": {},
   "source": [
    "## One-dimensional Arrays\n",
    "\n",
    "Let's create a simple 1D array and explore how to access its elements.\n"
   ]
  },
  {
   "cell_type": "code",
   "execution_count": null,
   "id": "1cd6c395-720f-4066-a40c-ce8930149d90",
   "metadata": {},
   "outputs": [],
   "source": [
    "simple_array = np.array([2.3, 0.1, -9.1])\n",
    "print(simple_array)\n"
   ]
  },
  {
   "cell_type": "markdown",
   "id": "94c22e4e-c79d-4120-a4cd-45e272815939",
   "metadata": {},
   "source": [
    "### Exercise\n",
    "\n",
    "1. Try accessing the first element of `simple_array`. \n",
    "2. Access the second element using negative indexing.\n",
    "3. Try to access an out-of-bounds index, like `simple_array[3]`.\n"
   ]
  },
  {
   "cell_type": "code",
   "execution_count": null,
   "id": "36a7baa9-daef-41ac-ab2c-0542fa33c8c4",
   "metadata": {},
   "outputs": [],
   "source": [
    "# your code here"
   ]
  },
  {
   "cell_type": "markdown",
   "id": "c8908651-9d0e-4cb2-96f6-d0d716bada7b",
   "metadata": {},
   "source": [
    "## Two-dimensional Arrays\r\n",
    "\r\n",
    "Consider the following gradebook data:\r\n"
   ]
  },
  {
   "cell_type": "code",
   "execution_count": null,
   "id": "a5409242-06c3-4fbc-9833-0bdf15db51a0",
   "metadata": {},
   "outputs": [],
   "source": [
    "| Student | Exam 1 (%) | Exam 2 (%) |\n",
    "|---------|------------|------------|\n",
    "| Ashley  | 93         | 95         |\n",
    "| Brad    | 84         | 100        |\n",
    "| Cassie  | 99         | 87         |\n"
   ]
  },
  {
   "cell_type": "markdown",
   "id": "af95b16f-485d-43e6-bd4f-d19dd4eec45e",
   "metadata": {},
   "source": [
    "### Representing Gradebook Data in Arrays\n",
    "\n",
    "Let's see how this can be represented using 1D and 2D arrays.\n"
   ]
  },
  {
   "cell_type": "code",
   "execution_count": null,
   "id": "fe76d515-1358-4474-a862-7ea6ca461178",
   "metadata": {},
   "outputs": [],
   "source": [
    "grades_1d = np.array([93, 95, 84, 100, 99, 87])\n",
    "print(grades_1d)\n",
    "\n",
    "grades_2d = np.array([[93,  95],\n",
    "                      [84, 100],\n",
    "                      [99,  87]])\n",
    "print(grades_2d)\n"
   ]
  },
  {
   "cell_type": "markdown",
   "id": "f79a3c43-0a0f-438f-a937-55bce5aa4242",
   "metadata": {},
   "source": [
    "### Axis vs Dimension\n",
    "\n",
    "In NumPy, the term \"axis\" refers to the dimensions of an array. For a 2D array, axis-0 represents the rows and axis-1 represents the columns.\n"
   ]
  },
  {
   "cell_type": "code",
   "execution_count": null,
   "id": "bd880cad-878e-4796-9b2c-39fad371bc42",
   "metadata": {},
   "outputs": [],
   "source": [
    "print(grades_2d.shape)\n"
   ]
  },
  {
   "cell_type": "markdown",
   "id": "a592a351-a0da-407d-953b-4530adbbef15",
   "metadata": {},
   "source": [
    "### Accessing Data in 2D Arrays\n",
    "\n",
    "We can access the data in 2D arrays using both integer and slice indexing.\n"
   ]
  },
  {
   "cell_type": "code",
   "execution_count": null,
   "id": "09d7783c-83ff-4de4-b497-42cfea8e4761",
   "metadata": {},
   "outputs": [],
   "source": [
    "# Integer indexing\n",
    "print(grades_2d[1, 0])  # Brad's score on Exam 1\n"
   ]
  },
  {
   "cell_type": "markdown",
   "id": "2becf428-a299-4e2d-bab3-6d6e19d69bfb",
   "metadata": {},
   "source": [
    "### Exercise\n",
    "\n",
    "1. Retrieve the scores of all students for Exam 2.\n",
    "2. Retrieve the scores of Cassie for all exams.\n",
    "3. Retrieve the scores of the latest exam for all students.\n"
   ]
  },
  {
   "cell_type": "code",
   "execution_count": null,
   "id": "d51de422-41db-42d0-8124-2b15691c85cd",
   "metadata": {},
   "outputs": [],
   "source": [
    "# your code here"
   ]
  },
  {
   "cell_type": "markdown",
   "id": "43aef95c-1ff8-4fa6-9ccd-aba089d45fcf",
   "metadata": {},
   "source": [
    "## Supplying Fewer Indices Than Dimensions\n",
    "\n",
    "What happens if we supply fewer indices than the number of dimensions?\n"
   ]
  },
  {
   "cell_type": "code",
   "execution_count": null,
   "id": "c21ab76d-ebf9-4479-8e93-c28357c48d79",
   "metadata": {},
   "outputs": [],
   "source": [
    "print(grades_2d[0])\n"
   ]
  },
  {
   "cell_type": "markdown",
   "id": "fa7c5548-18bf-480f-8050-9497c5a59b76",
   "metadata": {},
   "source": [
    "### Exercise\n",
    "\n",
    "1. Try accessing the grades array with different numbers of indices.\n",
    "2. Explore the behavior when you use both positive and negative indices.\n"
   ]
  },
  {
   "cell_type": "code",
   "execution_count": null,
   "id": "98939057-89e4-4ec1-90ef-25639e0ad45f",
   "metadata": {},
   "outputs": [],
   "source": []
  }
 ],
 "metadata": {
  "kernelspec": {
   "display_name": "Python 3 (ipykernel)",
   "language": "python",
   "name": "python3"
  },
  "language_info": {
   "codemirror_mode": {
    "name": "ipython",
    "version": 3
   },
   "file_extension": ".py",
   "mimetype": "text/x-python",
   "name": "python",
   "nbconvert_exporter": "python",
   "pygments_lexer": "ipython3",
   "version": "3.11.6"
  }
 },
 "nbformat": 4,
 "nbformat_minor": 5
}
