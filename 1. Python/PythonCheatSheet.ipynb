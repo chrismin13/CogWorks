{
 "cells": [
  {
   "cell_type": "markdown",
   "id": "722fd9c3-bbd4-497d-b823-35b2c0e0f4ec",
   "metadata": {},
   "source": [
    "# Python Basics in Jupyter Notebook\r\n",
    "\r\n",
    "Welcome to this Jupyter Notebook! Here, we'll dive deeper into Python basics while highlighting the features of the notebook. Jupyter Notebook enables interactive coding, so you can run the code cells to observe outputs in real-time.\r\n",
    "\r\n",
    "## Table of Contents\r\n",
    "1. Comments in Python\r\n",
    "2. Variables and Data Types\r\n",
    "3. Basic Operations\r\n",
    "4. Conditional Statements\r\n",
    "5. Loops\r\n",
    "6. Functions\r\n",
    "7. Lists\r\n",
    "8. Tuples\r\n",
    "9. Dictionaries\r\n",
    "10. Classes and Objects\r\n",
    "started!\r\n"
   ]
  },
  {
   "cell_type": "markdown",
   "id": "228e6524-dffd-49a7-bdea-6b41ee1da874",
   "metadata": {},
   "source": [
    "## 1. Comments in Python\r\n",
    "\r\n",
    "In Python, comments begin with the `#` symbol. Comments are non-executable and often provide explanations or notes about the code.\"\r\n"
   ]
  },
  {
   "cell_type": "code",
   "execution_count": 2,
   "id": "e3889ead-4e56-49df-ab31-8d33a9c1a2e9",
   "metadata": {},
   "outputs": [],
   "source": [
    "# This is a comment and won't be executed by Python"
   ]
  },
  {
   "cell_type": "markdown",
   "id": "2112af3e-4e41-405c-9d3d-7e8f28c64b52",
   "metadata": {},
   "source": [
    "## 2. Variables and Data Types\r\n",
    "\r\n",
    "Variables store information. Python offers several data types:\r\n",
    "\r\n",
    "- **Integers (`int`):** Whole numbers.\r\n",
    "- **Floats (`float`):** Decimal numbers.\r\n",
    "- **Strings (`str`):** Sequences of characters.\r\n",
    "- **Booleans (`bool`):** True or False values."
   ]
  },
  {
   "cell_type": "code",
   "execution_count": 3,
   "id": "bd584471-2125-44c2-8204-bc6a2d80611b",
   "metadata": {},
   "outputs": [
    {
     "name": "stdout",
     "output_type": "stream",
     "text": [
      "<class 'int'>\n",
      "<class 'float'>\n",
      "<class 'str'>\n",
      "<class 'bool'>\n"
     ]
    }
   ],
   "source": [
    "integer_variable = 10\n",
    "float_variable = 20.5\n",
    "string_variable = \"Hello, Python!\"\n",
    "boolean_variable = True\n",
    "\n",
    "print(type(integer_variable))\n",
    "print(type(float_variable))\n",
    "print(type(string_variable))\n",
    "print(type(boolean_variable))"
   ]
  },
  {
   "cell_type": "markdown",
   "id": "345a9c12-58cf-4ef9-891e-4907dd1b0fbf",
   "metadata": {},
   "source": [
    "## 3. Basic Operations\r\n",
    "\r\n",
    "Python can handle arithmetic, comparison, and logical operationtrations]"
   ]
  },
  {
   "cell_type": "code",
   "execution_count": 4,
   "id": "7ed6ada7-5107-4c49-9cf3-047b030e4091",
   "metadata": {},
   "outputs": [
    {
     "name": "stdout",
     "output_type": "stream",
     "text": [
      "8\n",
      "2\n",
      "15\n",
      "1.6666666666666667\n",
      "1\n",
      "2\n",
      "125\n"
     ]
    }
   ],
   "source": [
    "# Arithmetic operations\n",
    "print(5 + 3)   # Addition\n",
    "print(5 - 3)   # Subtraction\n",
    "print(5 * 3)   # Multiplication\n",
    "print(5 / 3)   # Division\n",
    "print(5 // 3)  # Floor division\n",
    "print(5 % 3)   # Modulus (remainder)\n",
    "print(5 ** 3)  # Exponentiation"
   ]
  },
  {
   "cell_type": "markdown",
   "id": "e02970d6-5994-437c-a45e-b3a50e6ace73",
   "metadata": {},
   "source": [
    "## 4. Conditional Statements\n",
    "\n",
    "`if`, `elif`, and `else` statements allow for decision-making in code.\n",
    "\r\n",
    "**Try changing the value of `x` and running the cell to see different outputs.**\n"
   ]
  },
  {
   "cell_type": "code",
   "execution_count": 5,
   "id": "07981e1e-c402-45e5-b33c-07834ddcda80",
   "metadata": {},
   "outputs": [
    {
     "name": "stdout",
     "output_type": "stream",
     "text": [
      "x is equal to 10\n"
     ]
    }
   ],
   "source": [
    "x = 10\n",
    "\n",
    "if x > 10:\n",
    "    print(\"x is greater than 10\")\n",
    "elif x == 10:\n",
    "    print(\"x is equal to 10\")\n",
    "else:\n",
    "    print(\"x is less than 10\")"
   ]
  },
  {
   "cell_type": "markdown",
   "id": "ab0fafc4-c4cf-4687-812c-eec70bb27b88",
   "metadata": {},
   "source": [
    "## 5. Loops\n",
    "\n",
    "Python provides `for` and `while` loops.\r\n",
    "\r\n",
    "- **For loops:** Iterate over a sequence (like a list or range).\r\n",
    "- **While loops:** Execute as long as a condition is true."
   ]
  },
  {
   "cell_type": "code",
   "execution_count": 6,
   "id": "f2eb1809-8218-4888-911e-e323f99992bb",
   "metadata": {},
   "outputs": [
    {
     "name": "stdout",
     "output_type": "stream",
     "text": [
      "0\n",
      "1\n",
      "2\n",
      "3\n",
      "4\n",
      "apple\n",
      "banana\n",
      "cherry\n",
      "0\n",
      "1\n",
      "2\n",
      "3\n",
      "4\n"
     ]
    }
   ],
   "source": [
    "# For loop using range\n",
    "for i in range(5):\n",
    "    print(i)\n",
    "\n",
    "# For loop iterating over a list\n",
    "fruits = [\"apple\", \"banana\", \"cherry\"]\n",
    "for fruit in fruits:\n",
    "    print(fruit)\n",
    "\n",
    "# While loop example\n",
    "count = 0\n",
    "while count < 5:\n",
    "    print(count)\n",
    "    count += 1"
   ]
  },
  {
   "cell_type": "markdown",
   "id": "c6777631-d900-438c-8597-ace19bc71120",
   "metadata": {},
   "source": [
    "## 6. Functions\n",
    "\n",
    "Functions are blocks of reusable code. They can have inputs (parameters) and can return outputs."
   ]
  },
  {
   "cell_type": "code",
   "execution_count": 7,
   "id": "578b25ec-57bf-4020-89ea-9d64cce22928",
   "metadata": {},
   "outputs": [
    {
     "name": "stdout",
     "output_type": "stream",
     "text": [
      "Hello, Alice!\n"
     ]
    }
   ],
   "source": [
    "def greet(name):\n",
    "    message = \"Hello, \" + name + \"!\"\n",
    "    return message\n",
    "\n",
    "output = greet(\"Alice\")\n",
    "print(output)"
   ]
  },
  {
   "cell_type": "markdown",
   "id": "570c7413-e2fa-4da9-b563-d3f17715f0a6",
   "metadata": {},
   "source": [
    "## 7. Lists\n",
    "\n",
    "Lists are ordered, mutable collections of items. They can contain any type of item and are mutable.\r\n",
    "\r\n",
    "**Let's explore some list operations:**\n"
   ]
  },
  {
   "cell_type": "code",
   "execution_count": 8,
   "id": "60fc1e74-2cf9-49b3-bc3f-cd46f079e000",
   "metadata": {},
   "outputs": [
    {
     "name": "stdout",
     "output_type": "stream",
     "text": [
      "banana\n",
      "['apple', 'blueberry', 'cherry']\n",
      "['apple', 'blueberry', 'cherry', 'date']\n",
      "['blueberry', 'cherry', 'date']\n"
     ]
    }
   ],
   "source": [
    "fruits = [\"apple\", \"banana\", \"cherry\"]\n",
    "\n",
    "# Accessing items\n",
    "print(fruits[1])  # Outputs: banana\n",
    "\n",
    "# Modifying a list\n",
    "fruits[1] = \"blueberry\"\n",
    "print(fruits)  # Outputs: ['apple', 'blueberry', 'cherry']\n",
    "\n",
    "# Adding and removing items\n",
    "fruits.append(\"date\")\n",
    "print(fruits)  # Outputs: ['apple', 'blueberry', 'cherry', 'date']\n",
    "\n",
    "fruits.remove(\"apple\")\n",
    "print(fruits)  # Outputs: ['blueberry', 'cherry', 'date']"
   ]
  },
  {
   "cell_type": "markdown",
   "id": "cb6005d7-d7ad-43ea-aa5b-c7d0c851ba87",
   "metadata": {},
   "source": [
    "## 8. Tuples\n",
    "\n",
    "Tuples are ordered, immutable collections."
   ]
  },
  {
   "cell_type": "code",
   "execution_count": 9,
   "id": "6bca13b2-b80d-4cde-82d4-69e1935b9d98",
   "metadata": {},
   "outputs": [
    {
     "name": "stdout",
     "output_type": "stream",
     "text": [
      "green\n"
     ]
    }
   ],
   "source": [
    "colors = (\"red\", \"green\", \"blue\")\n",
    "print(colors[1])\n",
    "# Note: Tuples are immutable, so colors[1] = \"yellow\" would raise an error!"
   ]
  },
  {
   "cell_type": "markdown",
   "id": "9b164aa8-6d99-4d5b-9b96-9b255fbd9f4d",
   "metadata": {},
   "source": [
    "## 9. Dictionaries\r\n",
    "\r\n",
    "Dictionaries store key-value pairs. Keys are unique."
   ]
  },
  {
   "cell_type": "code",
   "execution_count": 10,
   "id": "44eb5782-adff-49cb-b045-17bea6236716",
   "metadata": {},
   "outputs": [],
   "source": [
    "student = {\n",
    "    \"name\": \"John\",\n",
    "    \"age\": 16,\n",
    "    \"grade\": \"10th\"\n",
    "}\n",
    "# ... [dictionary operations]"
   ]
  },
  {
   "cell_type": "markdown",
   "id": "46f8c357-50d2-412a-b012-b0257efb9392",
   "metadata": {},
   "source": [
    "## 10. Classes and Objects\r\n",
    "\r\n",
    "Classes define objects' properties and behaviors. Objects are instances of classes."
   ]
  },
  {
   "cell_type": "code",
   "execution_count": 12,
   "id": "6972e39d-cdce-4267-a00e-d89305db7ab9",
   "metadata": {},
   "outputs": [
    {
     "name": "stdout",
     "output_type": "stream",
     "text": [
      "Buddy\n",
      "Buddy says: Woof!\n"
     ]
    }
   ],
   "source": [
    "class Dog:\n",
    "    def __init__(self, name):\n",
    "        self.name = name\n",
    "\n",
    "    def bark(self):\n",
    "        print(self.name + \" says: Woof!\")\n",
    "\n",
    "my_dog = Dog(\"Buddy\")\n",
    "print(my_dog.name)\n",
    "my_dog.bark()"
   ]
  },
  {
   "cell_type": "markdown",
   "id": "b05ae7a6-30d8-4e10-8d3f-8709a3cd5de1",
   "metadata": {},
   "source": [
    "**Differences between Dictionaries, Lists, and Tuples**:\r\n",
    "- **Lists** are ordered collections that can be modified.\r\n",
    "- **Tuples** are ordered collections that cannot be modified.\r\n",
    "- **Dictionaries** are unordered collections with key-value pairs."
   ]
  },
  {
   "cell_type": "markdown",
   "id": "96843057-f6b2-4ab8-8608-862c19d4a388",
   "metadata": {},
   "source": [
    "We hope this provides a deeper insight into Python and showcases Jupyter Notebook's features. Remember, you can always modify and test the code in the interactive cells. Happy coding!"
   ]
  },
  {
   "cell_type": "code",
   "execution_count": null,
   "id": "fcee4a43-cc09-488d-b511-2f29e874bed5",
   "metadata": {},
   "outputs": [],
   "source": []
  }
 ],
 "metadata": {
  "kernelspec": {
   "display_name": "Python 3 (ipykernel)",
   "language": "python",
   "name": "python3"
  },
  "language_info": {
   "codemirror_mode": {
    "name": "ipython",
    "version": 3
   },
   "file_extension": ".py",
   "mimetype": "text/x-python",
   "name": "python",
   "nbconvert_exporter": "python",
   "pygments_lexer": "ipython3",
   "version": "3.11.6"
  }
 },
 "nbformat": 4,
 "nbformat_minor": 5
}
